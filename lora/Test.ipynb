{
 "cells": [
  {
   "cell_type": "code",
   "execution_count": 1,
   "id": "6aedd50c",
   "metadata": {},
   "outputs": [
    {
     "name": "stderr",
     "output_type": "stream",
     "text": [
      "/Users/bohuiwu/Library/Python/3.9/lib/python/site-packages/tqdm/auto.py:22: TqdmWarning: IProgress not found. Please update jupyter and ipywidgets. See https://ipywidgets.readthedocs.io/en/stable/user_install.html\n",
      "  from .autonotebook import tqdm as notebook_tqdm\n"
     ]
    }
   ],
   "source": [
    "import os\n",
    "import re\n",
    "import json\n",
    "import base64\n",
    "import shutil\n",
    "import urllib\n",
    "import hashlib\n",
    "from io import BytesIO\n",
    "\n",
    "import requests\n",
    "\n",
    "from diffusers import StableDiffusionImg2ImgPipeline\n",
    "import torch\n",
    "from PIL import Image\n",
    "from lora_diffusion import patch_pipe, tune_lora_scale"
   ]
  },
  {
   "cell_type": "code",
   "execution_count": 2,
   "id": "a80c46d4",
   "metadata": {},
   "outputs": [
    {
     "name": "stdout",
     "output_type": "stream",
     "text": [
      "Using API: http://127.0.0.1:80/api/v1/queue/task\n"
     ]
    }
   ],
   "source": [
    "device = 'cpu'\n",
    "protocol = 'http'\n",
    "host = '127.0.0.1'\n",
    "port = '80'\n",
    "origin = f'{protocol}://{host}:{port}'\n",
    "api_endpoint = f'{origin}/api/v1/queue/task'\n",
    "print(f'Using API: {api_endpoint}')"
   ]
  },
  {
   "cell_type": "code",
   "execution_count": 3,
   "id": "e625d956",
   "metadata": {},
   "outputs": [],
   "source": [
    "def get_queue_task():\n",
    "    response = requests.get(f\"{api_endpoint}?\" + urllib.parse.urlencode({\n",
    "        'action': 'fetch_task',\n",
    "        'task_types': '1,2'\n",
    "    }))\n",
    "\n",
    "    if response.status_code == 200:\n",
    "        json_response = response.json()\n",
    "        return json_response\n",
    "    else:\n",
    "        print(f\"Error: Request returned status code {response.status_code} with message {response.content}\")\n",
    "        return None\n",
    "\n",
    "\n",
    "def get_task_lora_model(access_key):\n",
    "    response = requests.get(f\"{api_endpoint}?\" + urllib.parse.urlencode({\n",
    "        'action': 'fetch_model',\n",
    "        'access_key': access_key,\n",
    "    }))\n",
    "\n",
    "    if response.status_code == 200:\n",
    "        json_response = response.json()\n",
    "        return json_response\n",
    "    else:\n",
    "        print(f\"Error: Request returned status code {response.status_code} with message {response.content}\")\n",
    "        return None"
   ]
  },
  {
   "cell_type": "code",
   "execution_count": 4,
   "id": "0345a4a5",
   "metadata": {},
   "outputs": [],
   "source": [
    "# Notify the master nodes\n",
    "def send_task_queue_update(task_id, access_key, actions):\n",
    "    headers = {'Content-Type': 'application/json'}\n",
    "    body = {\n",
    "        'task_id': task_id,\n",
    "        'access_key': access_key,\n",
    "        'actions': actions\n",
    "    }\n",
    "    response = requests.post(api_endpoint, data=json.dumps(body), headers=headers)\n",
    "\n",
    "    if response.status_code == 200:\n",
    "        json_response = response.json()\n",
    "        return json_response\n",
    "    else:\n",
    "        print(f\"Error: Request returned status code {response.status_code} with message {response.content}\")\n",
    "        return None"
   ]
  },
  {
   "cell_type": "code",
   "execution_count": 5,
   "id": "c75f556d",
   "metadata": {},
   "outputs": [],
   "source": [
    "queue_task = get_queue_task()\n"
   ]
  },
  {
   "cell_type": "code",
   "execution_count": 6,
   "id": "f7dc6d09",
   "metadata": {
    "scrolled": true
   },
   "outputs": [
    {
     "data": {
      "text/plain": [
       "{'task': {'task_id': 6,\n",
       "  'task_type': 2,\n",
       "  'task_parameters': '{\"model_name\": \"public/lora_disney\", \"prompt\": \"a plane\", \"seed\": \"2\", \"lora_alpha\": \"1\", \"num_steps\": \"25\", \"cfg_scale\": \"7.5\"}',\n",
       "  'obj': 'data:image/jpeg;base64,/9j/4AAQSkZJRgABAQAAAQABAAD/2wBDAAgGBgcGBQgHBwcJCQgKDBQNDAsLDBkSEw8UHRofHh0aHBwgJC4nICIsIxwcKDcpLDAxNDQ0Hyc5PTgyPC4zNDL/2wBDAQkJCQwLDBgNDRgyIRwhMjIyMjIyMjIyMjIyMjIyMjIyMjIyMjIyMjIyMjIyMjIyMjIyMjIyMjIyMjIyMjIyMjL/wAARCACqAYkDASIAAhEBAxEB/8QAHwAAAQUBAQEBAQEAAAAAAAAAAAECAwQFBgcICQoL/8QAtRAAAgEDAwIEAwUFBAQAAAF9AQIDAAQRBRIhMUEGE1FhByJxFDKBkaEII0KxwRVS0fAkM2JyggkKFhcYGRolJicoKSo0NTY3ODk6Q0RFRkdISUpTVFVWV1hZWmNkZWZnaGlqc3R1dnd4eXqDhIWGh4iJipKTlJWWl5iZmqKjpKWmp6ipqrKztLW2t7i5usLDxMXGx8jJytLT1NXW19jZ2uHi4+Tl5ufo6erx8vP09fb3+Pn6/8QAHwEAAwEBAQEBAQEBAQAAAAAAAAECAwQFBgcICQoL/8QAtREAAgECBAQDBAcFBAQAAQJ3AAECAxEEBSExBhJBUQdhcRMiMoEIFEKRobHBCSMzUvAVYnLRChYkNOEl8RcYGRomJygpKjU2Nzg5OkNERUZHSElKU1RVVldYWVpjZGVmZ2hpanN0dXZ3eHl6goOEhYaHiImKkpOUlZaXmJmaoqOkpaanqKmqsrO0tba3uLm6wsPExcbHyMnK0tPU1dbX2Nna4uPk5ebn6Onq8vP09fb3+Pn6/9oADAMBAAIRAxEAPwD3+iiigAooooAKw9Sj3XrnHUD+VblZ93ErzsSxHHp7UXsRNXRkmMfd20i2QJyRjNWjKitsOfc013Vu+FB4ocjHlGLYAnjNPOmksM9KnjlCqOaV7oDip5mWoxKr2bRJhBn3FOiRY1DE7W75pXuiwwKrM+7ODzQvMNFsSO5UttbcKgknG5Sp+tNIbJ5pot2kUlT+fFPQm7FaYE9c/WkGJCOR+VQPC6ds0z5x/wDWNHoHqXhHC33wmB1BHWq83ktJiOJABTBIQMGnoydCvNLVFaMhKru4AFI6yAhkYDHYVczEo6DJqKRlA3sVVR1ycUcwcjexXLzyDkCnLHM3deB3qtLqdqWKxlpGHXy0LY/EUtveRXJzDKHwMlc4IH0pe0Q/ZyJtt0H2hP1qpqaXLabdeYp2CJtwGPSsvVNdvFuStnKFVfWLeD+tZF5qmrXts9vLcgRsMHZb7SPxzWcql1obxos5B9TvZ0smaZxNbNkSEfOFxjHuKsJ4nS21W3neNQLaAxRBW5k+XBb0HJ4qeXw+s8KxPLLsVgVwpBHtnPSgeHrUqAVdz0BeLOPxzXCoVL3udEopqx2/hfVn1TRo7mWRpXYsdxUcc8D3rTvtWg0u3We5WRoy23KLnH15ritPN5pNmLezkCwglgDDn+Zqb+2dTkVo/tETY6r9mJB/Wu6M0o2Ob2Mr6G6/iqUzwpDpU7CWMOjOyqWyccDJ4rYS5uAgaW38uTuN2cVxltqOpwXy3YjAlVDGreUcbc9AM0t1dX96+64uJ5Cf4du0fgARS9qi/Y3OnuNXtoj+9nXcP4VG4/pWTqPiaaFAun6bJMzdXkIAH4VhmNyPmj6c5EXT/wAepogCkkQDjt5Izz6/NUuqy40YorXF1r+psRdvNFA3Plw7QOO2Ku6bb6VYMHOlXNxKOd0hUj8qYYB0EQ545iXnH/AqTyu4Tg+ka8D2+aocmzVRS2Oi/wCEmWMbRpswA4A3oAKT/hJpNwB02TnP/LVe1c4YgBzEgxyQY04z+NKYwnymIDpwI4x+uakOVHQ/8JKzKGNgxzyP360n/CTuqsW08gdf+PheK58qu77g56DZFzjr34ppwMMVTbkkYSLn6UDsjo/+EqcNtbTwcZH/AB8LkU0+KpT/AMuEWew+0D/Cue4UDAQADsIsD6UhKgEYUY45MXH1oFypm9/wlUwGRYRcjP8Ax8jkflVe91yG9yt1pNo4zjLTrwPyzWSQmeNpJPI3RAnH4daQMA2dwyemHj/TjihMOVIp3enWryrLaRC0lB4ZLoHHp6Gr+l654i01lU39rdwgfdncE/TOc0zzV28yKOMj94mOf+A9Pam+YuwZYDp1lQ/+y1Skw5Udhb+OrcgLe2zRkgYkhbzU/Icj8jW1Y6xY35VrO5imHorAkfhXmxIJ++CC2MiZAeP+A8fh1qERW7TrJiMSH+NZlUk+2AMVaqGcqSex65I3mQsCM+9YzKyO3HArj7TxBqtmwVbuK4i67bp1ZvoGHNasXjS1mUpdwSW7cZKHzE/Mc/nWsJpGE6T6G0ue4p21vQ1Uj1a2vIQbaRJVHdSDS/bP93/vqtdzFqx6jRRRQahRRRQAVjag7C8cDOAB/KtmvPPGeqavo+qtLEw+ySNGq/uc46DGecknPGKTdhNX0OhWfdxnrRKAoyWDD6Vl6Vqgv7YvLHIjg/8ALWAxVoPLHgkc45wG9qOZWMLMX90yE56darSNH2z+dc9eeNdNtflaJzICcqT8o5xkntWrYanBf6bDeEoglyMFgQTnHFSpxvYqVOSVyzGEc45yT61N5KqSFLA+uaYkkazeUu3cBnAPQU9mLKM80277E8thqq5OSzYxTiXDbQ20DrWTq+t2+jQGWZj8o3beuRXDXnjWfUY5YrabY7n5CRjIGOh9x/KuarXVPS2ptTpuR6dKwKfKc+9VcZXJHHrXnGmeJpUkhjleUSkfc4Y9OpPYVtXHiaSGHzsAox2jYoJBrnhmC2krGrw0jqtqqC+/aB3Jqs2oQ7isbPOf+ma5A+p6VyY1a7mlDSp5mTx5nUfgK0DrjquxYY0boS2ev0FbRxLnsH1e25sGa9l3KuyFRx/eb/D+dV5haQktdzFmHOZX/kOlYU+oXU+d1z8h4xGSoPv0qn8m7zFOD3+c5H/jtDk2aKmkb0mv2sbrHDGXCnqxCAfhVG51Y3ABCWykdDvUkfjmqv2edlBCyuT3Vjz/AOO05rS6CjbBOvuMMR+QFKxa5Sq7rJJu3qSeR/q/8mkZVCAlRxxzsPNTPZ3TqoZbnHfEI/x70osJVUAWrA+9vnn86GmVzIriLePkhctnAzEvNNWGRvlMGB13CAFttWjYy4INo/TGfIHT8+tBs5sf8ez+x+zgY9xzxRZ9Auir9mycmMkHk5hOP508RBMfuRjv+5IH4/N+VT/ZJCebc++IF4/DNBspc5+yMCP+ndSD7daVmFyAW65P7kFveEZ/9C601okZuYfvdP8AR17d/vVY+xy8f6M5HYeQvP15pDaTcj7NIc8f8e68/rRYLlfZ8o/d4U8j9wn+NJ5AJysewjp+6jOM/jVg2cuf+PZ+eT/oy9PzpBZTA/8AHrLx3FsnH60WYXRB5QAI2e2fLjH9aNnzfdGT1PlR5/nVj7HcD/l2kyP+ndPy60fY58YFtLg8AGFB/WizDmRXwAy5UE9R8kf+NBXAzgYx0xFj86sfYJ3B/wBFlPqPJSj7Dc5ybWY98+VGP0o1HzIqjPTGMcEExcfWl6sRuI3Hpvj5xVg2FyuB5Eq49o+KX7DdHI8iTI46R/5NAXRVMgOCHAyTj54sn6cfnSbtvIl4xnPmR4A/KrZsLrJ/cS5PGMRjp68UfY7rdnyJ+Tkn93n+XWmK5VLkAgyHIAGPPj/wprSbQwEo7DmdOPrxV37Dd8f6PN6jDIMfTjigWd2f+WU4x3Dp39sUWuFymZCxP74An/p5Xn9KQSnj9975Fwv+FXPsF7j/AFE5wMf6xP8ACm/YLvBURy46HMqdvwosFyr5x5/fjp0E6/1H86QyjaR5o7dZwf6VdWyuzn93Nz6zKM/px+HWj7DdsQSk2f8Arqo/pTsFylv6kT/nOOfrxzR5hyG89SM5yZ1wP/Hf1FXPsN2AMpLxyP36fpxR9ku8cb8BeP8ASF/TjiizC5lG2glcSFkEn/PQTBW/MLxS77n/AKC93/4Ft/8AEVqGzuBn72cAf8fQ/wAOlN/sub0T/wACP/rVXNIVo9j3miiius5AooooAK4XxoTeMtsysBHf2xycgEcHIP1ruq8o8VyTxeLdQunYi2t7i2AXOQ58sNjHY8VnUlZAlc7Rk+U7WJz2PNcXq97Ne39xYiZ4fLABWMdffNbt/rUkGiy31v5TGNNwEp2/mfWvPdG1+fVtcu3aSTEsYkwHOBz0HsBXFmNWcMNJwdmb4GnGVXVFlfCFkXDytdNwRnfjdnk1j+IUm8OeQLOa4FqwO0M27a/eusinkeZtxJVe2etV/EGnf2po09uuBIq74zjkEV8vh8bWhXi6kro92rhoOm7LU4rT/H19bXHmvtkklPztjoMj/wCvXZ6X49+1yTxTQpmNdyup6+ntXkErlnQFkDYI6jjn0xVR72WC9A89fmOG28ZH5V9Y3Nx90+flFXszv/EGuX+sajBBdQxugBdVQjbt75Ptz0p0VtZQ5eGRA4Iz5Y7dhn8vrWLZajGtnJEERZEOA4HzE9m3djjIrOn1TUZd4DQFI2EpYfwexPU1wyhUqSs9zVWijsYbzRLKCaZ7ma4R0y8SAEk5wevOaRfF3htzj7LqUoxgDaOg9hXD6fdpd+cLgtsU7sQfIF/DuDV610izlgm1SEyGBLiOOOAKV35BLAe4AFdEIRgrNakuVzrR428OxjAt9TUDtim/8J1oYzmDUcDlcSc5/OuKu9SsZbgeU0ipzvjZec9qqaXo91qeov5ALryzhWx2rVyjFXk7IS5m7I71/H/htQAYtQGeg3H/ABoHjvQA2Vg1LP8AvH/Gubi+Huq3NwGLLHGFwCzgnPesN0ew1CSymiLzRylGKjhcUqWIpVXaDuaSp1IK8jodQ8YXcl1I9jrF6kBbMcbwZIHpmqdt4q126nEK6tdBm4B2Cq8kYhlKrGpAwec55FW9LQHUYR5arz1Ga3a00MkXjqHiPvrVz+AFJ9v8Rf8AQZuv0rXaFfammFf8iuduRVzIOoeIun9s3P6Ufa/ERHzavd/lWt5Ck/8A1qr6jplwY1mt5bl5Z5ZFEUYJACgY6fWqSk0K5ltN4gDFhq11k+op32nxEw/5C11+AqOPQPFDLl3kt09Z5xH/ADINb0Whu0Nt5t1BJKke1z58rZOc9QPSr9m1ux6mJ9o8QD/mLXfPSm/afEOQf7VvK7eKDw9FZm11K2UM0ePOhlm8zPryDmuWi8LXOo6o0Gk639ridyiKd0b57BuMDH5UlB9xO6KP2rxAB/yFbumfafEHGNWu8VZuPBHi+C5kgkDBk+9i4B9/WsTUpby3gsk8+aOQwneA3O7eRSSu7J3BppXZpGfXzndq15z701p9d4zq14B9aw7W9upbhVa7nIb/AGj/AI10umSKLSUzzEkScbzz0pyjJBcqedrbcf2td8+9NJ1rvqt3/wB9VtW6xXUjR2zCR1XcQvJx61cmsYorC1lXJeUPn0wDxWd5jOZ26uQf+Jrdc9fmpiwaoDkandDP+3XQi3GDwaBCvHBpXmFzB26x/wBBS7/77prLq/fVLv8A77rofJXJGKT7OCw+U4zTTkJswVh1fAzqN7/31SeRqw6X95n/AHjTNQLJqE6hnwHbA3Ed6qxszYOZM/73vV8sgvpctm31Q9dQvP8AvumG01HqdQu8f9dKknjbyrQ/PzBnr6MaYYTjHz8ds0+WXcLsT7HqH/QQu/8Av5SfY789b+7P/bWpDD8vRuh6mtDW7SOGe2WKHZ/okTNjqWKgk0lGXcdzM/s++OP9NvMf9dKQaXd/8/V3/wB/DVhof9CtwQeWfPPXpUfkD+7+tHK+4rsjOmXXP+l3XH/TQ8Un9m3f/P5df9/DWlpcP7ycbeNo6nPetD7O3+zSakh3PqKiiiu4wCiiigArx34jIYNTv8bQ09wJhk44SCNR+GWPNexV4v8AEoT3Pi+WOFQwgtSSCCcEhCTj0wBWNb4RxdjldW8QsuiTaRfRREFQHaJt3zHlTkdsnFZ3gS4P9pCEkENEx2qPlJ45rH167luyomurdn4DmFcZ9CRTvCF4NPvzPKYQkUbksFIYnGQOfeuDFU3PDyR04SShVTPWI5YU3s8iDby5yPl+vpU0F7b3QYW88cpQ5IRgcfXFedRTq0WolruKaeZILgruyu7f9zjtjANdTpSyw+IQJ7e2t2a1JUWpypwwzu96+Yr4FU4OV9Ue/GtzS2OB8c6R/ZGuySRkLFcHzYvbPUfgQfzrlbo7olkBHynkgfzr6Il8LaV4peG21PzFCNujeMgHPp06Us/wU0cWk0Vle3CSOAN0yq4yOnoe9fRZXivbUE+q0Z4mNp+zqtHz1YahJaS+YJFbnlSOPrV+C8+0+YgnHnTMCxRMADHP05o1Xw9qFjfzRSW0pCuwDRxHaeeo9qn0u3lslWQxM7sTlWQ5ArvqRSXN1ORX6mJGJxcOqZ3qecJ78V6BfNKnhXSIpLyAzz3EszMqEEABVwAO+ciuacGS5ac2swlP3CQQB9eK0NTaWax0tX81TFCxyI+AfMJz/I/SoleW6C9jPkms4pvNvElExbgoQox7nGTmui8HXOnHUlNtborujgo7lm49q5nUdOjFoipPM7yHK7xyfw7Ve8L3FrbeILQr+6coVkyPlxjOfrXNio81CSOmg7VUerR3ZeYqEAQHb8oxXM+LNKRL9dRRMLKAJMD+MdD+IrWg1fTSryLOrFcbgoJJz0wB1q6zW+u6TcQxlsjIAZdrK457/hXzGHqVMNWVS1l1PdxFJVKTR5heNtvGGeAF7e1T6ZJnU4RnHzHPFRjSdS1PUngtbaeWVCN+FwFxwcmu48O+AjHfwPq2oBXAOxI/uhuwZvQ+1fYvF0Vpzbnz7oTs3bYzwDJKqKru7cBVFJcSWliCb28jhIGTGp3yfkOn41m6/d6xY61JotwyabtO0rFlRIOxLdWBHTmqdjocNzJt8rzAD8zMM7fp/tfyrblitTLU2or954BNpumB0PKTXTZ/EIMfzpbbUrq6mnivb9tsC5ESNsHPsv4d6s+S8cAiBCKi4CL0Ax2rBWMQatGuxn3xMM9AcMcZNG6KXmXJtVWJmWCFM5+9tP8AM9aJL+4FrFKzlXkZhgDtVB2jMjMLJBk/xSE1PclpILVQiqArYVOAefeklHqO93ZEsN350g826dT0ztzxXffD7Q9Ii1h9Tt9REtyiHdGU28nocnj1rzI2dyd7rHhU+8QOF/Guw8EzRadZ6jeyXChowoCk43HB4HrScla8Qau9TW1fSrufxPqV3H5kM/HlFidkgxxjtXLalp1hr4Ed+j2d4uQJ4xjPOeV6Hn8at+EfEOo3i3YeSOVHm6E/Mcn19q6O7tLS+8yOzkBuApzHI3IP49qlN89i2tDzn/hEF0adDc+ZcA/clD7Ub8AP0zWrawQwl4owIx94hEHJ9Oea6NYpLS1aHUo1e3YfvBnGPcelYyWtvFcTm0mWe3YDbKHzuGeAfeqkpMi6IWsjNMGRnDKPlKqv09OlS2mn66v2qa4tUnSCNY4AVGHctyxAxjABGKF3KwPIzjGK1vDPjGWx05Jo1Dq7yCSN8HdtJH/16hNppWKjZ3MeC3Se3WSSNrV2O0EfMhPp6j8zVW6gnsnCzIcHlXByrfQ13+hXWj+MLIvZ2/2OVmOUC7oyfX1WqWp6JdaLHL9vihbTySdryjp6gn+VXJXZna5w3mMDjafSnRsHfkHrViazt5DJNY3CXFqimQMGwwXuMdzWJ/aUkjbbK0YMBnzLgELj2FKMbsLGLqkNxNrd6IIpXIcjCdBk96s2GjT7dksiJjtu3H9OPzq5befPdB75pp/3gwq/Iuf5mn258u5ZQDtmUOATyuCwI/lWr0QJlqTSrV4bcPPIDGu3ggZwc9qtTSQDTTatYJcbFGyVAFlHbggc/j1qvISIoMJnO7+L3FPtrye0ZZoMgp8xx2/xqL21GnfQgi0xLiMGMujtK0cYdMK+0ckkdOv6UeJFkg1AGSBmj8mJFkB+VtqAHB+tdI/jWDVb2xjuoVYLbmVblEAdcjuBwRxVye2jkV2t1iu7OdiXQkbR7+op/FqhaJ2OBTEmm2zbed8nH4ikAXj5f1rS1O1+xGOLSpyYdzF4hh2iJI4NZpn1EDJmn9zt6fpStbcC1poxc3Bx8vl/+zCruT6VR02e4lupI5ZmdfLPUe4qzlfRfyWk/QWp9R0UUV0mYUUUUAFeNePtRisPGOo+bgCS0KbupGY17fXFey15rrMOq3fxIktbZP8AQTGskz+WpACoueSOpyKiauho+fr4l5DuGJAcccVp+ElRtftFkQMjMyMG5B4PXNel6wPE8d5Ou+1tWUGUW6eWyEf3V2jrx3rm7SO+utY0++vLSSGNHYiQRBFz0wcAVzYqD9jK3Y2w7/eI6j+x9Od3ZrWMiVAjjGBtB9qsWGlWNgWNtbrEWGCwJJx7ZqWMh22qct6A5NW0hmxnynwPUYr4KdSs1q3Y+p5YLRD4n2PkEq3qDgj6Gsy+12G2vJLH+29ZgvPKZ4zJKDGDjIx7dqtyyNHG+2NnYfwL3P1rl7rQPEupXf2maSxjhPSF/mKr07DrXoZPX9hNucrI4cdR54prc83h8T6zDdtL9vlbLlmDHcCc96+iPh94os9c8M2TXMlv9u+aN4+NxweoHXpj8q8ysvhjbxNuvLsSHk4Qcda6uy0HTdOVBbLPEUOcxTFNx9T717dXO8Ino7nnrAVWj0ZtY0hIfNkurNI95TcWUDcOoznrWdba3pPm3ISW2laWciJUIO7gfpXMG20/yBC9nBLHncBMPM+b159qet1DboqwrFCi8KqKqgflXHPP4fZjc0jls3ozkvFek6ldeILm4t9JmuLgs3lsoCoM4AOemAMfjmsLTvh1rn9qQXV4LWKONhuDSjLDvwB6Zr0aTU48HdIWx71Sk120STYZVVz0UsAf1rjea4id404bnVDAKDXMxkPhmKO+F098GRY9kcCxDEfoQTzxV+z0+009X8pp5WkfcWnfJzjHaqZ1MsMqn5mozfynsB+NebUqV6mkmd0aBrswAYKAisckIABn371GxUghjweayvtUpbJwAaduZvvNx9ax5Z3u3qaqkrWYmv2Nj4msY7DUikV7GD9ivWHB/wBh/wDPPUc1x9vLeaGx03WLeWIr92Uj5W98jg/WuukjSVGjcZU9s/rVa6gu5rGW1F/OYGUrsYKxA9jivpMHm8YwVOseZXy1ylemZbzFlcR7eF5rDa3kN7YXbGMoWKOpI4BBOf8A61bg8NpcRGK4uLsxcYRpB/QUweCdG6FJif8ArsevrXT/AGvQXUxWV1S7pei2moxb1+zKmOd7YZT9O1ah8PaQqoJ5Y3CcgKQB15FYS+DNIDZWGY7v+mpqRfB+j4+a3c59ZDXHWzNTVozaXodNPL3DdG5NPpiWj2vlwrblSCodQMevXNeJanfhteKWkzJawSMImbv7n1r1QeDtExn7ID9XP+NKvhHQUA/4lkB+orPB4+hh23dyuVVwUqmisjkfCWsWllbsl7cQIC/D7wGGR6VcufHFjpa/ZFkS+CPuE6EhznkjPsa6dPDWiJnGl2ufePNOfRNMSJjFp9osmCFJhXH48dK6Y5xSU+ZRZm8uk1a5yM/xXi1HTpLDUNFheBhtVtx8wA9efWsSLVfDzNkR6nbH/pnICBXX/wBgarkENpKIWG4JZjkeldAllZxgKbK344P7pa6auc04LRXMYZa31MnwneeHDo2q3lxd308ECpvMy5ZCTxjB6VhW2oWUgbb4hjtVLEiKS2Drz9BXfQR2kNreIkMSLKiqVCjDYbPI/CqLWtpk7rO3P/bJf8Kx/tuK1URxyyT6nNWbw2vzWfiTR19gskP8jWtcajqepafJYyano13buOc6hyPpuGRV029iB/x52w/7ZL/hSLZWbFdtlakt0HlDJ/Sms8v9gHlbX2rHMN4Q37mjtYiSODDqUbfzwahv9GjtHia8jurUSjZCTKDHwORlT1xzXWXFja2rMstjboVPzZiAxVW+02O+0u5sYLKEyTAKhVQpU5ySD2PGK1hnKclFxsQ8uajdSuGl/D7xGrxXR06UxFC6kXoJbI44JrDufDXiSyfZdaZfxbfl3u6MpHsSK9a0r4g6TaabZWmoXkFvdiFEaJ253bQMZxjk1PcfEGwAMa2zSFuNnHPtivUnXioc17HnKMlLlaueODS9XKgmNlwMDPlH+tZ/iWS50SCANCsi3KH5jtTDA/Mvy9Rgjmu61u6e6vjdwWKWaEj5A2c85Jx2rk/ElrFq9rDbpKguI3yCxIBBGMZ9en5V5VHMajq8snoeo8HD2d0tTE0Cw1cMl6mnfaLZohHGjzAADPX/AD61o3N34t06SOfNlZqnyoWZScdhnvXV+HbKWx0SG3lkEjLnDDoee1XbxbhYkNvDFK+ekjYA/SueecVFWcI2sdEctpuCkzgV07XtVke7aHTpDMSzMrlNx/Crcmga4XDxzQ242KoWO5kA4GD+dddCJzbg3CIkoP3Y2JFGWbIOAPWsp5viFL3bF/2dRS1OXh0rxDEQRejPr9pY5/NTVn7D4i/5+of+/wAP/iK2pFiwFe5WPceARS+RH/z2Sms1xL1v+BDy+h2PeqKKK+sPmwooooAK5PVPFGm6Vqt7Z30UrEleI4C4IKL1NdZXjPxBv9btPGNxHpulxXULBC8km75TsX0YVFTYqKuzrYfHejxIqx2t6zL8qsLXBx2Ga5PxT4uv9QmuYLPT7mWzZI9sUsOADkliR37VXtrq7lto5bhRFcFfnSM4VT3GK0biK2igVku1mkYjMYHTjnmvnamazTlCMVp3PYp4GFoybINP+zR2EbOm2SWJBKOh4HTHaraXkEQ2wg46YGazSS5yMY9KN2zkdetfOSTm9Wex7OK6F9tQJ5Ef0qB9Rl/uBa47+2rlZZYrq6aMKryIUwNw34VeR2INJdXl5HsQX7SDyg24ShNzbT0IGD0/GuyOWdboj2sE9jsPtkrjlwPwpDOxHMp/CuJl1W/ZmBaZF8hMZUoGOV3HOOAcn8q39HlkfTwZHZyHYAkk5GeOTyfrU1cD7KHNdFQqKTskaZfn77H6mkDLjkVHkUZFcvLoarcxPEN9ePcWWj6Zhb2+fYjf3RnGR6df0q1a+A/BYujpV7rFzLq54aUPtQP6Z6ZrM1e8/sPxZouvSoWtLd9kpHOM9T+R/Ou5tfCHh/U7q41QM9xb3DGUOJhsGeeg+vevrMBCMcOnBas8TEyj7WSqNrscSlvf+EfFB8P307XNtKu+0mbgsPT27g/hXQgjtg/hWH4jv7XWPHul2enN5tvpEPlvJnOT1xkdccD862t6gY715WcU4Rre6jty+cpUtdiQA8cVYX7uCaro1TAkDNeLI9AdmniNjhtvFIrKBnBJqlqupCw06aYlsqh2qvOTzinTjKclFDbsrkT61bx6lb2IDtPM2NqjoB3z6VNHq1jLfvYpMzXMefMjaMrtwM5z6Vw/jHU7iwv9PkgkMUjWisSuM55HWuaPizV3dg93KAxwzg5JGMYNe7TypVaalbc8upjOSVrnrVrqsd3rVzpqRTAxJu80j5HHsfx/SrVreW92f3UhbLtHhlKnK9a8ls/FWqxQnF7MFHRR0qo3ifWHuEke8lZVJK7m+6TRLJr3toCx8Vue3sO1M2E9q4bRPiEkm2HU1xngTL/UV3VtPBe24mtZkkjP90814+IwlbDv3lod1OtCauhpTFIVbBx1AyPbjvVgxMeoprgKBke446VzRkrmraObNn4gYn/ia2yjphbfrWvsYIMnJxycYzWXLYa6zNjWIlUtwBbgnH1rSUukSq7b3AAZsYyfWu6vLmirNP0IhoxSPMjdGXPAwdxzTnihz/rCv61TlkIfIJH0qE3S9Sc/jWfLJ7BZItSQ25IQ3aqzDgMo5py2LpDtW88sbdvyqOn1rFvLi1dkM4BK9OazrjxBFax4jwi9Msa6YUKkkuS5nOULanRXM0UFuIJryWQKcgSEH9cc1z+oeIWilSOz5Ktkkd8Vlz3tzqB4BYewNPt7GW2aVprWQyxRee0ZUjamcbiD71308LKK5p6nK60F7sWdVFb2l/4NNhq1kscyO11p12eTIxb51PuPT0xVCC7j01CTKrv6qo3fnWfP4v8A+KZNhcW0jwtcCS0mWP6q6jPqcfjVDUtP1ldPmnk0iTyUO1yzgEH6Dmu2rh6lblT2OSjVhSvJ7l+716W9z5bAjOPlOazbW9sl1CNb6dgpJ37BkgVjW+n6je+Fr3WIBBDaW0gV41OGPTJ6e9dFo3w8e90yxvn1RUN4geOERZIyO5zjGK0WAhCNloDxt3dneQXukmFRHexKABhd2NtNuhpN3D5cuohBnqkuw/piuFvvDUlnrFpp1levMZFG4uhUqe/4cV1ugeEdOW0E1+/2yVySM5UADjoK85ZO+bmUjZ5jBRsySWKxsrfZZ3yzRk5IMu9gfxrKm1S3gGd659Ca7KHTNMtl2wabECD1MfU1kQ+EdJuru6lvLfzJC/K7iFGVB4A6c5raOVa+9K5k8z0skczHqNzqcpjsLVrhx1wMgfj2qb+y/E3/AEC/1T/Gup0G1XSbq70ZVAhDedbsR96NuoPfg1v+W/8AcH511xwFOKscssdUk7no9FFFe2eYFFFFABXmviqYp4jvBjP3AP8Avha9KryzxpdFfEl1GikFQmTjrlFrmxVRU4XZdNXZxOr6hepqbR28rkMoHlqM4NVf7U1aEkSW8ny+sWa3ReOzZGwfQZNNa5nOGDyBumFrwJxoyu2tz1IYpxSRiDxTKh2yRJx2YYqRPFEZI3Q/Xaa03DTEiQFwRzvRcfnVWXS7ORsNaRA9cqMfyrF0KHRGyzBohXX9McgvB0/vKDj/AOtnmrEes6RtChwAOgMYqpJo2nHGYMHvtY81E2gWRAx5uSexzSdGk+rGswRsjUrCUcXUfTHJxx6VLHcwnIWaI+m1xXOnw5bCQczgH0xUS+H03sqzXBPYVm8LTa+JlLMo9jrAQ3Rh+BoIrmP7BaNSRcXSkenNO+wXMQ+XU7hTxjIrP6nHpI0WZUzoLi3hu7Z4J0V43GGU/wBK5lvBMKOy2+oXkFuxyYVbj+f9KtD+1IQxTUXfAPDRgg0tnqGrzwCSSWBVJwA6Ht9DW1KNeimqcyZ4nDVfiRoaXo9lpFv5NrHjPLMeS341oEjqTz2rJ+16gBki1b2XcKU6o9rDJLPCGRTnKyfoAa5qlGtOV5as3hi6EVaOiNhSfWpVzjrkVz/9vgFS+n3q5G4EJnj86tQa3DcBhsmiK8gSIVzWM8JVitUbLF0XszbTlfY8VwfjvVJhe2+m20hUMm6UD+Luo9q6GLU5ZL1wHZIVAJJ/iPt9K5HWLqe6vnZ7RFVWyHZNrMAeOTXZl2HcK3NJdDLEV4zhaLMXVZr2WFHvpw7InlqWx0Bz6VzTTktyfyFaWrfaJblBjO77iqpwfp61ENB1NlyLOUAeor6ajyxguZni1ZXehFHNhAM9RVfzMt1NTNbTQP5cilG64NLe6bd2kQmmhIjJC8HofetFy3MnUsMWcA5/rXSaB4jl0yaIxSSknOUDcH/61ZuneHbm/tUukXMbnoGwa04/CUwDFzkY4Qv1P1Haueu6ErwmaQruGsTql+JdyCFeC344JyRipv8AhZbbiv2WF/8AdJrz5dKkikKF90ivsGwfxH0zWzF4ZEJSW4uvNCgO6jp7gV59TAYNa2Oj69NanX23j9bqYRvZwJ/tSSYH8qtSa7ZbslxvxkpFlsV5nrdzaT6xZrHJAFVgj+W2VHI9sV0en3YuYQ8aoBgxHBOHweCMcY5rKrltGMVNKxX9pStoWtQ8VwwX5g+fexXarDGM1Q1XU72yjjeaNhHJjDBs4+tZfiCyVtMN1PIscgfepC8k8fL+AFZc/iea5tEtpYlJAXDljxj/AOvXZRwNJpSijKWPqtm1dLqM0R8ktnKgsF6Z6mqlnot5JeLLeYKBgVMrdgwyMe6/z9q6nRYLW80mOUzMEfLEjGSce5q+bazR1VpXVgMg+Whzj/gfFU5uk3BI551pzd2ybQddXRrO4RrFHkmuHm+Q/KoJ+VeewFPXWYH1m4vGsGJurcwlTJ/Bx/MknFYU+saPGzDzbwsCcg2nJP13YrOl15Ef9zZ3R443RAE1KdZvsZO50D6jZx6fpKW9ktv9hZmXDZxnhmOevIBqfVPG9po0DxTW0zlzsWMTcnjk5/HNefTapqpaQxWpj35zmPP4Uy/kkuX0y6mj/wBIjXyniPBdRnDc+38q7KcXdOTFqyOLxRcWXhqfRrWMwpcSNJcMTncpwAoB6fXvWx4L8bX2nahFaXJF1C6eTHvPMQHQA+me1Y93oWoXEcJht5GVQT5krDLZotPDesWl1HOsaK6NwxccVtOpT5Wr6hd9D1BNagj1d9Sa3d7kptGXGEA6ADFXYfFBtbaOMW3HX7/qc1xOnjVIp9+o7ZY9uP3YHWtdnjclgOwGGPAryZ1pQdrhqdA/i+ToLUf99mmjxg4JP2XBHPLHk1gHYFwAB7EVHhsfcTjnpnNZfWZdx3Za8ReNZ7ZbS9iijS5gl2oAxPmg9VPtUH/C15v+gE3/AH01ZWpac19JbyKFjMTFh3z7Yqv/AMI+/wDef/vk13UsRT5feeoudn1xRRRXrGIUUUUAFeT+NgP+EovMzbOE4xn+Ba9YryLxwkreLbwpGWH7v/0Ba8/Mv4K9f0ZpTdmYgZT0mJwOy4FPwdg/fDI5IqpJ5pPC7cjjPX8KEkcvtdG64Hqa8LlRtcsK6uFPn4J7YpssYTH+k7ueAFGapnzBjco44Wpo5bhVGyQDHUEZ5oaQ20P2oWJMwU+hFJvAUDzAxzjIzTDNLuwXA47Dv71XlmuhnL7WK87R3HtU8oronEhLBfNIx7UryozjEpLLwSVxiq5luWjx5qsNvKcHB+tQMbtkG2Qc9yeBTUROaLm8JuPmuR2JFMdmbJ8wEHnJTpVGW21Fjn7YUbH3VQVCbC9kY79Sck9QMD+laKmu5Lma4mPyngD1200Sq7iPzFPHQL1rIbTmLAyXEzAcNmQ4/DFOGhog3rhRjruJz+tDhFdQ5/I0xMNuQePQr7USpDcBvMhDJ1+6c1TTTlSMFDsbPUE4p+x1JH2iVWX/AGuCKXLEfOTrHEBn98MjO3HX3oLBSVDygt3ZahUyFQFnkLHtkcCm75NgDTuxyCSG6Umh85KZslcy8KMf6s81TntHvbiNpnBgRScBDkmpWiaVFIupFyf754pptY5cD7YxYj+JziqTS1uNT7EX2OF9TF2Y98kaCOJGU4ixzxU7XMkcjCSOMLj1JzzTm0+GNQWmYjuS56/nWdrU2maVpb3Lp50zDakZc8t2/ACqTdVqO5DfUwvEEBkv4W8kr8oGMdef/r1t62ttPo0yTxoibMb27H/GvPHl1HUZTMplcZ+XaeB7Cop7+9uIxbzzyFA2djnoe+a9n6pN8uuwuY6jw14ptdM01rO5Zh+8LI6xhgAR+fr+ddWdRgurTzraczbgSPKXv6V5CRtHI79a6HwvquqWzT2unyLh03FHUNkj0z0pYjBwk+dbjUraHVWdqVu/NuEcJGNwLcbmPf8ALP51B4vvGt9JRIAFaV9pdTztHP5e/tU8Go+JpZgZhFGmN3MKDJ9On0o1HSbrVdG8u7uxJcK28IEVU6HuBnPNciUY1FKTWhV9Dkv7HgWOKF/OM8sPmCVTlBxnB9q0vB2sC3E9vczKkWBIhdunPIpY9C14W8dmbpRA6/NgglR/OlXwPInW6iYZznoceldlatRnFxlIhXE8XXdrcm18uZHRC27Y2efWuXlkiMTKOWP3eOldWvgdnYo+oQKBx9xjzSDwIgY7tSRgP7kZP8zRSrUacOVSLvoO8KakLXTxbzOCrsWTH8IHXNdbC0dyhdMOp6Z4rz7WtMXRJIbe0vHmmmXLAR7cDoB1q67+JtBj+1SSFolAVkc7wo7ZFZV8L7d88WF0tDt3jAj2rDsLE9MelNcPgRqSV69jVbTL57/TIrpbxQZAd0YtwSrDqM5qcF+SbnaR2+zD/GvNdOUXyuRWg7Y5AkCEBa5CezGu63qJui/lWeESOMgHnv0/zmusZnCA/al2k4/1HX9axrvRxdagb2K/ltZtu0tDHtz+tdWFnGnJuTIZS0TzNK8RXGmrI0kBTIDnOMjOD/KuoeZFQB4wMenSsrSNJg0uaWbzpLiSTq0gGT+PXtWv9ohxgxygDtu4rPFTjUneIDFmBBKQBlP+zUTSHduMWMei8CrYulB4iUrg4z9KgM7MxcJjPQAcVxoHoNSQbm/dHGRwCcUnmxxHd5TgnpgEgf40hnY8GQKv05pHkZgqiQ4PG3rmqsupKkKZEZR+7IOefaoftFv/AHn/ADpz7UDLuDDI49D9ar+Q3/PRPyo5UVzn1RRRRX1RzhRRRQAV5H43ZI/FN8S0vIj3BR0GwdK9cryTxtaNN4svTyAypyTx9xa87M/4K9f0ZpT3OaFzAhVgJW9ARQJVQklC3PPHNLHZlQNjDzF7HsKj8p1ViSfoo6V4FnsdHKSsQYyVUAY3c1UkuZFK4VSuOvoasNDmIbWbJXsetPS2UbckqSD1boaLNCcTPkvFKZEZUg5ztNP+3wNGTtc9cHYeatRo67ULEnBA4PNSyW0e+NcNkjovr6/SncmxkLqaqoVoZVU9D5ZI4pravvVilvKYj12xkCtJkG2QbQwTqRxzSKrqzAhssuNvHNHMuwcj6GOutjf5a20zEHBwhAxT4tdgwm6xnXH3v3Zxmtby23BFjJ2nPDUy4hYPuywLcnn9MVfPHsHIyhNqtuqgi0u3Ynp5WMGov7eAOGtblTjAzDnFaPkSFcsxZQeeaCqjcoDlV6fNS5o9g5WZf9uJFCCbS4JHXEdN/t+1+Y/ZJssON0ZraaIIqOyAkHgZ5/GowwbBMe1CxpqcF0BxZjvq8bpGPJcEk9Im4qZLpHQyfMAAOPLPA9K1TFlj5a4HrxmkWMyOchlBBO445Ao54vZC5DCuNe0+CQI3m+YBk5XGPwqrN4t0yGJ9nmSEcjC/41evNCttSuYmdHSX1HpmqUvgu1ddvnSfuxnAA4J6muumsPa8ieVmRceM96kJZ4bszH9MVgaxrdxqixrKiJGjbgq9jXZSeB7ZlXbcOoPHzKD0qNPBNvyTM+0nAHl4FdlKvhoO6FZnPWq297ptsI76O3kgwJEcgZ96x9Skim1GQwcx8AHGN2BjP413MHhG1jV2ZnbsVCAVfstB0y2XIgjIz1Iyat4+mttQUWeZpZ3EhAEb/UKTVq2gvrSQtFHKHI6qpr1SGGLcTbqo9goFSY2oBLjeM/JtxyDWLzJvTlHyM4yw1+7t7JY5rSWZg2Q5B6VqW+sPcqN1hcqNpOQM8/jWzIyDzMNtDfKeMd+351K4EUhIYFV6HGck5rknWhPXlEosyzcS7MpbXBK9R5fIH50hupQQGt5wCcBimMe1annIwyCcZxuGaSWJnkdhI4GcLnofeudSXYrl0Mw3EkZaRra4LBsbcA0iXm9fnt7kD+6VrSMgi8wAZGD8zd6azOxGWReOMdxVc67C1OR12GebVbbUbOGVzFt+Uxn+E9f/AK1aeuavLqekNbw6RdxyTrhzIAUjBIzjHJ/wrZBJ2rkhepJxTzwjpHnABYHjHvn9a64Y6cIqNhWMDQo5dP0yOCfekhJY5Q4XP/6q2QpMQIkySchmHBFSCaNo2AIGXyCByalD2+wsT859uK5KtRzlzWLSVtSMRSryNuR1Pp+FM8mQ8nDZ46cg1Z8+BG/hYKuTkZJPtVdLlciXGQx4I5FY+8xWigCup6N8w4JFRyCY4ZY2ZR71aNyvlFH+UADgjk/So/tCIhO0gMOeOlCch8pHGk0xJ+VcDpu4FKIXUH5h8vp35oFyuGXOMc8Dr1oM/wApkUqoPGMZp+8FiuF2luMnoAvSn+Q6KAR8vr0/KpJLhgS0bfNk5wvSk8+Ux4yQQRtyvB+tV7wrIjkBZgCDkdx0zUnnSf3W/wC+alMsu7MbAH7uCab5/wD00P60ahZH0zRRRX1hgFFFFABXlni+RR4svNzHCqg+nyCvU68d8dzPD4uvm25jxHn67Frzs0/gr1/RmlN2Zmyn9795cZAyeMc9KbI5aAiM8xk59x/kGs5TLLEWXhTtJ3diM1BIZ0PEgK/dOehx614CZtzmkJSgVywACge2c0yTUfmZWzlWPQdc1UhlZ4tr9znrmo5ZleZo+hLbgT060tWwc0XnvgH2c4VT8/oaat2WYZQht+Sx71WkVT5jMWEm3cc8g57UjxqyEqjFicD/AGfaizFcmnv445JEGdudpPr3pGnXO1VO/GBzSww2/wAolVmduTnp0pk0cKcrGzbDggnB+o9aq3cNSSO/jhnd2K+YFyAac98soDHBUg/XNZ9xbRyTs4ADYx9aRoz5IEabgeM56e2D3oaQrst296Xhky3UYXjpinyy4LBkxkcEdPr+tVwwR2KxOkeMAH1pY3muHeMAoQOWI647VLRSHzSiMecJmMgIABXAPbNRGVMjc+f7w9fpUVxHNNdgKwCE/KCeMUot9rHA+VVyPXd6VXQV2WZZYRHG8e4gD6GmrMFVQSoYj8D3P41XXzDukABBBYY9P/101bc7VeSQ88YI6H/JoC7LTSFZG2KSXIIyfu596axZb45cKME8jgn8O9LE+ETeny43K5HTH86ScxCN3icnJwMqOvr9BQGpE11LIq9X8s5J68VKZSxDxbQqDcWPGcccVBKZTHF8wUZIHHUVWHm7QNoCdM47d6tJEu6L3mMWVixZA5zjj86DKixmQgZwTjt6CoY5HcDKjAOSw7jjAqIidRuA2oOqnsOlLdg5NFy1uFDbNqMoGCw7VJNeBoS6D5M4Jx1+lZcJkM0YkO3cCzMD0HanqfOjZWfGG3bcVT0FzsX7W6lsAk55RhT5JmMcZXlzkbTyMjio2Xc5Z1LlwWz0zzijYBOSWJCncAD94+tFxJskhkk3Km0HdjPGNvYn9Ku+ZIzIwYFF9OegxjHrVRnhPmMxyynJwO2Dmmfa8bgAOQMN+HNDZSdtxZzISjIUPzYwvOWp8k7MxIVWKqFOeB04qJowvyswAJJOOwzUcxVg3zMu9csB09aaYmWgwhjZmYnOBjHXnrTJjvUog2SOQoI96qCTchUFtj88dRU8k8Ucq7kJcZ+YnuOhqm9dBLzGRKix7ZicgkAe+f5077Qu+YKp2gDBJ9+f0pnyu0jqPlbLBj1FRxWwZflkUgtleensaL33Gywzh4w42DOM7vvD2H5UwbhArBRndtyBjH49KBbSmbazhCeepwMUxN3z/wAfIIpXQcrJQ7NINyZzhePU9TT4BvLDp8x+92phZlVWKkKRwT0pirIH3Rbj7g8j1+oNK4JSJJZGtvmwrAcbQeQfWlWUvHJl1LEsoBGOfWm/ZklUO20k8bc8k0lzErTQ4jVcgk4PGOlF0PUarzFgCqgE4JPGDTZryYyHcyDaMHA44NIu5CVAYrjI45/GnSLHuWMcjsx759ad11HZ9BZLiVgMFSSQRj1NV/Luv78X/fQqw0AQrvBOcZPTtRtf/ngPzovELM+n6KKK+pOcKKKKACvHPGp3eNdQQk8CLA7f6sda9jryHxsB/wAJjeHAziLn/gArzc0/gr1/RmlLcyREqwRlAQWwGxz9D+NZ8wZhIgx8zHIPr361oSfdcdsD+dZl5woxxz/SvBasjo33GOyrBHGqhWJ5yKeloHlbcFBYDvjAA6UXCj0H+sWp5+bSRTyPNHB+lJO4lFCvYboE2r8x5IBzt/xpjqEjRioj2E59zimXTHzMZOOO9WdqliCoI29x7UJ6ltJICjPEVL56HI/z6UiW8gIyWPBbPbJ7Gm3XEcWOOP6VaT5THjjIOcU7iSuRfZFaRG3J15IGfy/OomURySO4bcnJY9DjoMVNdf8AHtB9arN86Ddz9frTYWsSOgaRfNK+UVyvtTEgy/mKwAPzAE9OOufemDm0n/65rVmH/jx/E/ypLUEipIrmCBUQh2YfKOvvzQsXlynPCjgZAyTVheNpHBDdvwqKViUUkkncec0FWIkiPDqihc4IHpnnNRS2rPtwDvDc4rTg6f8AAKevAAHdjTegcqM+OGRlReSnRc0GEmII23JJxx6itK05YDttPH41nOzCX7x4bA56UrjsNji2xsjhQp4OOqkVFNA0nzncVU8YP4GpZR+9P1NMUnyRz6UuYmyHRoY2wQQGJORziieKOdAAu1gCMsfvA+lTMSbZuf4TVfJ8o89AuPyFVcLJjLmyAiiUqQSpIPcZ7VXNjmVcYUYGATz71okkyNk5+Z/51UQkzLk9jTuS0iKa22yh4ycYKgH73HakitDuIIxxsXJ7irjk+cn+7VORiFcgnqP500FkNNqXL42hiSB/tZzxUk9mROB5W12XLgcev86sTAB2wB0T+dMYn7SOT9/FO4kkyIw+ZLGxzuAAYD1pJNNcsGBwGz8pPTJq4APPfj+Nf50T9G9pKNimlYzJrb5zllU4Ctjt71LNZAJG0hVX25U9iue/vSuSRMCSevX60jklcEn7h/8AQqYrKwkMUsMinh0bkADp7U+WzWYh9ojV8nkfdP0qSIkRcEj5T0pbR2+yyHcc/WobCyIbdMhRIVcj5FYHoDwPwzUrJiNoyoPckKM5FVz/AK5D38xuavRcwTnvk80DKikRRsY9p2jGTzjrT5QzuxCgqOC445qvIB5B47f41ZVRlxgYIBIpiaKgWaSRwFClFySD3FOaR5JY0ReVQg7uNp6g0loSrAKcAo+cd+DUMXWL/dqrE8pZ8t5JS8JZ8gMx2YIPYYpnliS8G1QVwBg84rRsvvR+6/0qIKqu+AB+8HQe9DHyleTctx5TEAKSAcYA/wAal+yt/wA83/76qTAN7cZGeO9Qbm/vH86A5T//2Q==',\n",
       "  'model_md5': '347139332d073df41e5dac3a8aad2595'},\n",
       " 'access_key': 'a3a6088544a14d62a97a01e976f6a9b4'}"
      ]
     },
     "execution_count": 6,
     "metadata": {},
     "output_type": "execute_result"
    }
   ],
   "source": [
    "queue_task"
   ]
  },
  {
   "cell_type": "code",
   "execution_count": 7,
   "id": "a73ac4a4",
   "metadata": {},
   "outputs": [],
   "source": [
    "access_key = queue_task['access_key']\n",
    "base64_arr = queue_task['task']['obj'].split('\\n')\n",
    "task_id = queue_task['task']['task_id']\n",
    "input_path = os.path.join('.', 'temp', str(task_id))\n",
    "# Recreate the folder\n",
    "if os.path.exists(input_path):\n",
    "    shutil.rmtree(input_path)\n",
    "os.makedirs(input_path)\n",
    "for index, base64_str in enumerate(base64_arr):\n",
    "    if len(base64_str) == 0:\n",
    "        continue\n",
    "    meta_info, base64_img = base64_str.split(',')\n",
    "    file_extension = re.search(r'(?<=/)[a-zA-Z0-9]+(?=;)', meta_info).group()\n",
    "    filename = f'{index}.{file_extension}'\n",
    "    img_path = os.path.join(input_path, filename)\n",
    "    with open(img_path, 'wb') as f:\n",
    "        f.write(base64.b64decode((base64_img)))"
   ]
  },
  {
   "cell_type": "code",
   "execution_count": 8,
   "id": "a4f9500e",
   "metadata": {},
   "outputs": [],
   "source": [
    "task_params = json.loads(queue_task['task']['task_parameters'])\n",
    "if queue_task['task']['task_type'] == 1:\n",
    "    task_params['num_steps'] = 1\n",
    "\n",
    "    output_dir = f'./output/{task_id}'\n",
    "    \n",
    "    # Update server\n",
    "    send_task_queue_update(task_id, access_key, [\n",
    "        {\n",
    "            'action': 'log',\n",
    "            'content': f'Training mode {task_params[\"model_name\"]}...'\n",
    "        }\n",
    "    ])\n",
    "    \n",
    "    \n",
    "    from lora_diffusion.cli_lora_pti import train as train_lora\n",
    "    train_lora(pretrained_model_name_or_path=\"runwayml/stable-diffusion-v1-5\", \\\n",
    "           instance_data_dir=input_path, output_dir=output_dir, \\\n",
    "           train_text_encoder=True, resolution=int(task_params['resolution']), \\\n",
    "           train_batch_size=1, gradient_accumulation_steps=int(task_params['num_gradient_accumulation']), \\\n",
    "           scale_lr=True, learning_rate_unet=1e-4, learning_rate_text=1e-5, learning_rate_ti=5e-4, \\\n",
    "           color_jitter=True, lr_scheduler='linear', lr_warmup_steps=0, placeholder_tokens=\"<s1>|<s2>\", \\\n",
    "           use_template='style', save_steps=100, max_train_steps_ti=int(task_params['num_steps']), \\\n",
    "           max_train_steps_tuning=int(task_params['num_steps']), perform_inversion=True, clip_ti_decay=True, \\\n",
    "           weight_decay_ti=0.000, weight_decay_lora=0.001, continue_inversion=True, continue_inversion_lr=1e-4, \\\n",
    "           device=device, lora_rank=1)\n",
    "    \n",
    "    # Orignal location\n",
    "    lora_output_model_path = os.path.join(os.path.join(output_dir, 'final_lora.safetensors'))\n",
    "\n",
    "    # Get file md5\n",
    "    with open(lora_output_model_path, 'rb') as f:\n",
    "        file_data = f.read()\n",
    "        md5_hash = hashlib.md5(file_data).hexdigest()\n",
    "        model_base64_encoded = base64.b64encode(file_data).decode('utf-8')\n",
    "\n",
    "    # Destination\n",
    "    user_model_base_dir = os.path.join('.', 'user_models')\n",
    "    if not os.path.exists(user_model_base_dir):\n",
    "        os.makedirs(user_model_base_dir)\n",
    "    user_model_path = os.path.join(user_model_base_dir, f'{md5_hash}.safetensors')\n",
    "    shutil.move(lora_output_model_path, user_model_path)\n",
    "\n",
    "    # Remove the original path\n",
    "    os.rmdir(output_dir)\n",
    "    \n",
    "    send_task_queue_update(task_id, access_key, [\n",
    "        {\n",
    "            'action': 'log',\n",
    "            'content': 'Model trained successfully.'\n",
    "        },\n",
    "        {\n",
    "            'action': 'update_status',\n",
    "            'content': 2\n",
    "        },\n",
    "        {\n",
    "            'action': 'save_model',\n",
    "            'content': model_base64_encoded,\n",
    "            'md5': md5_hash\n",
    "        },\n",
    "        {\n",
    "            'action': 'finish',\n",
    "        }\n",
    "    ])\n"
   ]
  },
  {
   "cell_type": "code",
   "execution_count": 9,
   "id": "14325434",
   "metadata": {},
   "outputs": [
    {
     "name": "stderr",
     "output_type": "stream",
     "text": [
      "Fetching 15 files: 100%|███████████████████████████████████████████████████████| 15/15 [00:00<00:00, 119156.36it/s]\n",
      "Cannot initialize model with low cpu memory usage because `accelerate` was not found in the environment. Defaulting to `low_cpu_mem_usage=False`. It is strongly recommended to install `accelerate` for faster and less memory-intense model loading. You can do so with: \n",
      "```\n",
      "pip install accelerate\n",
      "```\n",
      ".\n",
      "/Users/bohuiwu/Library/Python/3.9/lib/python/site-packages/transformers/modeling_utils.py:402: UserWarning: TypedStorage is deprecated. It will be removed in the future and UntypedStorage will be the only storage class. This should only matter to you if you are using storages directly.  To access UntypedStorage directly, use tensor.untyped_storage() instead of tensor.storage()\n",
      "  with safe_open(checkpoint_file, framework=\"pt\") as f:\n",
      "/Users/bohuiwu/Library/Python/3.9/lib/python/site-packages/torch/_utils.py:776: UserWarning: TypedStorage is deprecated. It will be removed in the future and UntypedStorage will be the only storage class. This should only matter to you if you are using storages directly.  To access UntypedStorage directly, use tensor.untyped_storage() instead of tensor.storage()\n",
      "  return self.fget.__get__(instance, owner)()\n",
      "/Users/bohuiwu/Library/Python/3.9/lib/python/site-packages/torch/storage.py:899: UserWarning: TypedStorage is deprecated. It will be removed in the future and UntypedStorage will be the only storage class. This should only matter to you if you are using storages directly.  To access UntypedStorage directly, use tensor.untyped_storage() instead of tensor.storage()\n",
      "  storage = cls(wrap_storage=untyped_storage)\n",
      "/Users/bohuiwu/Library/Python/3.9/lib/python/site-packages/safetensors/torch.py:99: UserWarning: TypedStorage is deprecated. It will be removed in the future and UntypedStorage will be the only storage class. This should only matter to you if you are using storages directly.  To access UntypedStorage directly, use tensor.untyped_storage() instead of tensor.storage()\n",
      "  with safe_open(filename, framework=\"pt\", device=device) as f:\n",
      "/Users/bohuiwu/Library/Python/3.9/lib/python/site-packages/transformers/models/clip/feature_extraction_clip.py:28: FutureWarning: The class CLIPFeatureExtractor is deprecated and will be removed in version 5 of Transformers. Please use CLIPImageProcessor instead.\n",
      "  warnings.warn(\n",
      "/Users/bohuiwu/Documents/GitHub/LoRA-Playground/lora/lora_diffusion/lora.py:1011: UserWarning: TypedStorage is deprecated. It will be removed in the future and UntypedStorage will be the only storage class. This should only matter to you if you are using storages directly.  To access UntypedStorage directly, use tensor.untyped_storage() instead of tensor.storage()\n",
      "  safeloras = safe_open(maybe_unet_path, framework=\"pt\", device=\"cpu\")\n"
     ]
    },
    {
     "name": "stdout",
     "output_type": "stream",
     "text": [
      "<s1>\n",
      "<s2>\n"
     ]
    },
    {
     "name": "stderr",
     "output_type": "stream",
     "text": [
      "100%|██████████████████████████████████████████████████████████████████████████████| 37/37 [04:34<00:00,  7.42s/it]\n"
     ]
    }
   ],
   "source": [
    "if queue_task['task']['task_type'] == 2:\n",
    "    model_md5 = queue_task['task']['model_md5']\n",
    "    lora_model_base_path = os.path.join('.', 'temp', 'models')\n",
    "    if not os.path.exists(lora_model_base_path):\n",
    "        os.makedirs(lora_model_base_path)\n",
    "    lora_model_path = os.path.join(lora_model_base_path, f'{model_md5}.safetensors')\n",
    "    if not os.path.exists(lora_model_path):\n",
    "        res = get_task_lora_model(access_key=access_key)\n",
    "        model_data = res['model_data']\n",
    "        with open(lora_model_path, 'wb') as f:\n",
    "            f.write(base64.b64decode((model_data)))\n",
    "        with open(lora_model_path, 'rb') as f:\n",
    "            model_data = f.read()\n",
    "            downloaded_model_md5_hash = hashlib.md5(model_data).hexdigest()\n",
    "            if downloaded_model_md5_hash != model_md5:\n",
    "                send_task_queue_update(task_id, access_key, [\n",
    "                    {\n",
    "                        'action': 'error',\n",
    "                        'content': 'Mismatch MD5 found.'\n",
    "                    }\n",
    "                ])\n",
    "                os.remove(lora_model_path)\n",
    "                # TODO: Stop here\n",
    "    input_image = Image.open(img_path).convert(\"RGB\").resize((512, 512))\n",
    "\n",
    "    model_id = \"runwayml/stable-diffusion-v1-5\"\n",
    "    pipe = StableDiffusionImg2ImgPipeline.from_pretrained(model_id, torch_dtype=torch.float16 if device != 'cpu' else torch.float32).to(device)\n",
    "    patch_pipe(pipe, lora_model_path, patch_text=True, patch_unet=True, patch_ti=True)\n",
    "\n",
    "    prompt = f\"style of <s1><s2>, {task_params['prompt']}\"\n",
    "    prompt = \"style of <s1><s2>, robotic horse with rocket launcher\"\n",
    "    \n",
    "    torch.manual_seed(1)\n",
    "    tune_lora_scale(pipe.unet, 0.7)\n",
    "    tune_lora_scale(pipe.text_encoder, 0.3)\n",
    "\n",
    "    output_image = pipe(prompt=prompt, image=input_image, strength=0.75, guidance_scale=7.5).images[0]\n",
    "    \n",
    "    # Convert to bytes using a BytesIO buffer\n",
    "    buffered = BytesIO()\n",
    "    output_image.save(buffered, format=\"JPEG\")\n",
    "    output_images_bytes = buffered.getvalue()\n",
    "\n",
    "    # Encode the bytes as base64\n",
    "    output_image_base64_encoded = base64.b64encode(output_images_bytes).decode('utf-8')\n",
    "\n",
    "    # Hash value\n",
    "    output_image_md5_hash = hashlib.md5(output_images_bytes).hexdigest()\n",
    "\n",
    "    actions = [\n",
    "        {\n",
    "            'action': 'log',\n",
    "            'content': f'Inferece on model {task_params[\"model_name\"]} executed successfully.'\n",
    "        },\n",
    "        {\n",
    "            'action': 'update_status',\n",
    "            'content': 2\n",
    "        },\n",
    "        {\n",
    "            'action': 'set_output_image',\n",
    "            'content': output_image_base64_encoded,\n",
    "            'extension': 'jpg',\n",
    "            'md5': output_image_md5_hash\n",
    "        },\n",
    "        {\n",
    "            'action': 'finish',\n",
    "        }\n",
    "    ]\n",
    "    send_task_queue_update(task_id, access_key, actions)"
   ]
  },
  {
   "cell_type": "code",
   "execution_count": null,
   "id": "f92fe290",
   "metadata": {
    "scrolled": true
   },
   "outputs": [],
   "source": []
  },
  {
   "cell_type": "code",
   "execution_count": null,
   "id": "35962c12",
   "metadata": {},
   "outputs": [],
   "source": []
  },
  {
   "cell_type": "code",
   "execution_count": null,
   "id": "47727f86",
   "metadata": {},
   "outputs": [],
   "source": []
  },
  {
   "cell_type": "code",
   "execution_count": null,
   "id": "781d9eba",
   "metadata": {},
   "outputs": [],
   "source": []
  },
  {
   "cell_type": "code",
   "execution_count": null,
   "id": "90119bee",
   "metadata": {},
   "outputs": [],
   "source": []
  }
 ],
 "metadata": {
  "kernelspec": {
   "display_name": "Python 3 (ipykernel)",
   "language": "python",
   "name": "python3"
  },
  "language_info": {
   "codemirror_mode": {
    "name": "ipython",
    "version": 3
   },
   "file_extension": ".py",
   "mimetype": "text/x-python",
   "name": "python",
   "nbconvert_exporter": "python",
   "pygments_lexer": "ipython3",
   "version": "3.9.6"
  }
 },
 "nbformat": 4,
 "nbformat_minor": 5
}
